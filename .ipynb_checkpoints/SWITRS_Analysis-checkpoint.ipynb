{
 "cells": [
  {
   "cell_type": "code",
   "execution_count": 54,
   "id": "19f18738",
   "metadata": {},
   "outputs": [],
   "source": [
    "import sqlite3\n",
    "import pprint\n",
    "import time\n",
    "import pandas as pd\n",
    "from IPython.display import display, HTML\n",
    "import matplotlib.pyplot as plt"
   ]
  },
  {
   "cell_type": "code",
   "execution_count": 3,
   "id": "4edd72f0",
   "metadata": {},
   "outputs": [],
   "source": [
    "conn = sqlite3.connect(\"switrs.sqlite\")"
   ]
  },
  {
   "cell_type": "code",
   "execution_count": 20,
   "id": "edefd1eb",
   "metadata": {},
   "outputs": [],
   "source": [
    "def queryExecute(q):\n",
    "    st = time.time()\n",
    "    \n",
    "    cursor = conn.cursor()\n",
    "    cursor.execute(q)\n",
    "    \n",
    "    et = time.time()\n",
    "    t = et-st\n",
    "    print('Query Execution time:', time.strftime(\"%S\", time.localtime(t)), \"Seconds\") #https://pynative.com/python-get-execution-time-of-program/\n",
    "    \n",
    "    return cursor"
   ]
  },
  {
   "cell_type": "markdown",
   "id": "7862461d",
   "metadata": {},
   "source": [
    "## Display Number of rows in each table of database"
   ]
  },
  {
   "cell_type": "code",
   "execution_count": 21,
   "id": "1442d531",
   "metadata": {},
   "outputs": [
    {
     "name": "stdout",
     "output_type": "stream",
     "text": [
      "Query Execution time: 00 Seconds\n",
      "Query Result\n",
      "9424334\n"
     ]
    }
   ],
   "source": [
    "# Table case_ids\n",
    "query = \"SELECT COUNT(case_id) FROM case_ids;\"\n",
    "res = queryExecute(query)\n",
    "print(\"Query Result\")\n",
    "pprint.pprint(res.fetchall()[0][0])"
   ]
  },
  {
   "cell_type": "code",
   "execution_count": 17,
   "id": "341655e1",
   "metadata": {},
   "outputs": [
    {
     "name": "stdout",
     "output_type": "stream",
     "text": [
      "Query Execution time: 08 Seconds\n",
      "Query Result\n",
      "9424334\n"
     ]
    }
   ],
   "source": [
    "# Table collisions\n",
    "query = \"SELECT COUNT(case_id) FROM collisions;\"\n",
    "res = queryExecute(query)\n",
    "print(\"Query Result\")\n",
    "pprint.pprint(res.fetchall()[0][0])"
   ]
  },
  {
   "cell_type": "code",
   "execution_count": 18,
   "id": "494554d1",
   "metadata": {},
   "outputs": [
    {
     "name": "stdout",
     "output_type": "stream",
     "text": [
      "Query Execution time: 09 Seconds\n",
      "Query Result\n",
      "18669166\n"
     ]
    }
   ],
   "source": [
    "# Table parties\n",
    "query = \"SELECT COUNT(case_id) FROM parties;\"\n",
    "res = queryExecute(query)\n",
    "print(\"Query Result\")\n",
    "pprint.pprint(res.fetchall()[0][0])"
   ]
  },
  {
   "cell_type": "code",
   "execution_count": 19,
   "id": "fe8a333a",
   "metadata": {},
   "outputs": [
    {
     "name": "stdout",
     "output_type": "stream",
     "text": [
      "Query Execution time: 02 Seconds\n",
      "Query Result\n",
      "9639334\n"
     ]
    }
   ],
   "source": [
    "# Table victims\n",
    "query = \"SELECT COUNT(case_id) FROM victims;\"\n",
    "res = queryExecute(query)\n",
    "print(\"Query Result\")\n",
    "pprint.pprint(res.fetchall()[0][0])"
   ]
  },
  {
   "cell_type": "code",
   "execution_count": 29,
   "id": "c34ce58b",
   "metadata": {},
   "outputs": [
    {
     "name": "stdout",
     "output_type": "stream",
     "text": [
      "Query Execution time: 00 Seconds\n",
      "Query Result\n"
     ]
    },
    {
     "data": {
      "text/html": [
       "<div>\n",
       "<style scoped>\n",
       "    .dataframe tbody tr th:only-of-type {\n",
       "        vertical-align: middle;\n",
       "    }\n",
       "\n",
       "    .dataframe tbody tr th {\n",
       "        vertical-align: top;\n",
       "    }\n",
       "\n",
       "    .dataframe thead th {\n",
       "        text-align: right;\n",
       "    }\n",
       "</style>\n",
       "<table border=\"1\" class=\"dataframe\">\n",
       "  <thead>\n",
       "    <tr style=\"text-align: right;\">\n",
       "      <th></th>\n",
       "      <th>0</th>\n",
       "      <th>1</th>\n",
       "      <th>2</th>\n",
       "      <th>3</th>\n",
       "      <th>4</th>\n",
       "      <th>5</th>\n",
       "    </tr>\n",
       "  </thead>\n",
       "  <tbody>\n",
       "    <tr>\n",
       "      <th>0</th>\n",
       "      <td>0</td>\n",
       "      <td>case_id</td>\n",
       "      <td>TEXT</td>\n",
       "      <td>0</td>\n",
       "      <td>None</td>\n",
       "      <td>0</td>\n",
       "    </tr>\n",
       "    <tr>\n",
       "      <th>1</th>\n",
       "      <td>1</td>\n",
       "      <td>jurisdiction</td>\n",
       "      <td>INT</td>\n",
       "      <td>0</td>\n",
       "      <td>None</td>\n",
       "      <td>0</td>\n",
       "    </tr>\n",
       "    <tr>\n",
       "      <th>2</th>\n",
       "      <td>2</td>\n",
       "      <td>officer_id</td>\n",
       "      <td>TEXT</td>\n",
       "      <td>0</td>\n",
       "      <td>None</td>\n",
       "      <td>0</td>\n",
       "    </tr>\n",
       "    <tr>\n",
       "      <th>3</th>\n",
       "      <td>3</td>\n",
       "      <td>reporting_district</td>\n",
       "      <td>TEXT</td>\n",
       "      <td>0</td>\n",
       "      <td>None</td>\n",
       "      <td>0</td>\n",
       "    </tr>\n",
       "    <tr>\n",
       "      <th>4</th>\n",
       "      <td>4</td>\n",
       "      <td>chp_shift</td>\n",
       "      <td>TEXT</td>\n",
       "      <td>0</td>\n",
       "      <td>None</td>\n",
       "      <td>0</td>\n",
       "    </tr>\n",
       "    <tr>\n",
       "      <th>...</th>\n",
       "      <td>...</td>\n",
       "      <td>...</td>\n",
       "      <td>...</td>\n",
       "      <td>...</td>\n",
       "      <td>...</td>\n",
       "      <td>...</td>\n",
       "    </tr>\n",
       "    <tr>\n",
       "      <th>70</th>\n",
       "      <td>70</td>\n",
       "      <td>latitude</td>\n",
       "      <td>REAL</td>\n",
       "      <td>0</td>\n",
       "      <td>None</td>\n",
       "      <td>0</td>\n",
       "    </tr>\n",
       "    <tr>\n",
       "      <th>71</th>\n",
       "      <td>71</td>\n",
       "      <td>longitude</td>\n",
       "      <td>REAL</td>\n",
       "      <td>0</td>\n",
       "      <td>None</td>\n",
       "      <td>0</td>\n",
       "    </tr>\n",
       "    <tr>\n",
       "      <th>72</th>\n",
       "      <td>72</td>\n",
       "      <td>collision_date</td>\n",
       "      <td>TEXT</td>\n",
       "      <td>0</td>\n",
       "      <td>None</td>\n",
       "      <td>0</td>\n",
       "    </tr>\n",
       "    <tr>\n",
       "      <th>73</th>\n",
       "      <td>73</td>\n",
       "      <td>collision_time</td>\n",
       "      <td>TEXT</td>\n",
       "      <td>0</td>\n",
       "      <td>None</td>\n",
       "      <td>0</td>\n",
       "    </tr>\n",
       "    <tr>\n",
       "      <th>74</th>\n",
       "      <td>74</td>\n",
       "      <td>process_date</td>\n",
       "      <td>TEXT</td>\n",
       "      <td>0</td>\n",
       "      <td>None</td>\n",
       "      <td>0</td>\n",
       "    </tr>\n",
       "  </tbody>\n",
       "</table>\n",
       "<p>75 rows × 6 columns</p>\n",
       "</div>"
      ],
      "text/plain": [
       "     0                   1     2  3     4  5\n",
       "0    0             case_id  TEXT  0  None  0\n",
       "1    1        jurisdiction   INT  0  None  0\n",
       "2    2          officer_id  TEXT  0  None  0\n",
       "3    3  reporting_district  TEXT  0  None  0\n",
       "4    4           chp_shift  TEXT  0  None  0\n",
       "..  ..                 ...   ... ..   ... ..\n",
       "70  70            latitude  REAL  0  None  0\n",
       "71  71           longitude  REAL  0  None  0\n",
       "72  72      collision_date  TEXT  0  None  0\n",
       "73  73      collision_time  TEXT  0  None  0\n",
       "74  74        process_date  TEXT  0  None  0\n",
       "\n",
       "[75 rows x 6 columns]"
      ]
     },
     "metadata": {},
     "output_type": "display_data"
    },
    {
     "data": {
      "text/plain": [
       "[]"
      ]
     },
     "metadata": {},
     "output_type": "display_data"
    }
   ],
   "source": [
    "# Table victims\n",
    "query = \"PRAGMA table_info(collisions);\"\n",
    "res = queryExecute(query)\n",
    "print(\"Query Result\")\n",
    "display(pd.DataFrame(res.fetchall()))"
   ]
  },
  {
   "cell_type": "markdown",
   "id": "38714658",
   "metadata": {},
   "source": [
    "## Indexing the four tables"
   ]
  },
  {
   "cell_type": "code",
   "execution_count": 40,
   "id": "62a46c75",
   "metadata": {},
   "outputs": [
    {
     "name": "stdout",
     "output_type": "stream",
     "text": [
      "Query Execution time: 03 Seconds\n"
     ]
    },
    {
     "data": {
      "text/plain": [
       "<sqlite3.Cursor at 0x7fa9439d85e0>"
      ]
     },
     "execution_count": 40,
     "metadata": {},
     "output_type": "execute_result"
    }
   ],
   "source": [
    "# Table case_ids\n",
    "query = \"CREATE INDEX ind_case_id on case_ids (case_id);\"\n",
    "r=queryExecute(query)"
   ]
  },
  {
   "cell_type": "code",
   "execution_count": 42,
   "id": "e4bc8bd3",
   "metadata": {},
   "outputs": [
    {
     "name": "stdout",
     "output_type": "stream",
     "text": [
      "Query Execution time: 04 Seconds\n",
      "Query Execution time: 20 Seconds\n",
      "Query Execution time: 08 Seconds\n"
     ]
    }
   ],
   "source": [
    "# Table collisions, victims, parties\n",
    "query = \"CREATE INDEX ind_collision on collisions (case_id);\"\n",
    "r=queryExecute(query)\n",
    "\n",
    "query = \"CREATE INDEX ind_parties on parties (case_id);\"\n",
    "r=queryExecute(query)\n",
    "\n",
    "query = \"CREATE INDEX ind_victims on victims (case_id);\"\n",
    "r=queryExecute(query)"
   ]
  },
  {
   "cell_type": "markdown",
   "id": "448424cc",
   "metadata": {},
   "source": [
    "## Trend of accidents and fatalities by year"
   ]
  },
  {
   "cell_type": "code",
   "execution_count": 57,
   "id": "f1fb7462",
   "metadata": {},
   "outputs": [
    {
     "name": "stdout",
     "output_type": "stream",
     "text": [
      "Query Execution time: 05 Seconds\n",
      "Query Result\n"
     ]
    },
    {
     "data": {
      "image/png": "[encoded data removed]",
      "text/plain": [
       "<Figure size 432x288 with 1 Axes>"
      ]
     },
     "metadata": {
      "needs_background": "light"
     },
     "output_type": "display_data"
    },
    {
     "data": {
      "image/png": "[encoded data removed]",
      "text/plain": [
       "<Figure size 432x288 with 1 Axes>"
      ]
     },
     "metadata": {
      "needs_background": "light"
     },
     "output_type": "display_data"
    },
    {
     "data": {
      "text/html": [
       "<div>\n",
       "<style scoped>\n",
       "    .dataframe tbody tr th:only-of-type {\n",
       "        vertical-align: middle;\n",
       "    }\n",
       "\n",
       "    .dataframe tbody tr th {\n",
       "        vertical-align: top;\n",
       "    }\n",
       "\n",
       "    .dataframe thead th {\n",
       "        text-align: right;\n",
       "    }\n",
       "</style>\n",
       "<table border=\"1\" class=\"dataframe\">\n",
       "  <thead>\n",
       "    <tr style=\"text-align: right;\">\n",
       "      <th></th>\n",
       "      <th>no_accidents</th>\n",
       "      <th>year</th>\n",
       "      <th>total_fatalities</th>\n",
       "    </tr>\n",
       "  </thead>\n",
       "  <tbody>\n",
       "    <tr>\n",
       "      <th>0</th>\n",
       "      <td>522562</td>\n",
       "      <td>2001</td>\n",
       "      <td>3926</td>\n",
       "    </tr>\n",
       "    <tr>\n",
       "      <th>1</th>\n",
       "      <td>544741</td>\n",
       "      <td>2002</td>\n",
       "      <td>4089</td>\n",
       "    </tr>\n",
       "    <tr>\n",
       "      <th>2</th>\n",
       "      <td>538954</td>\n",
       "      <td>2003</td>\n",
       "      <td>4225</td>\n",
       "    </tr>\n",
       "    <tr>\n",
       "      <th>3</th>\n",
       "      <td>538295</td>\n",
       "      <td>2004</td>\n",
       "      <td>4094</td>\n",
       "    </tr>\n",
       "    <tr>\n",
       "      <th>4</th>\n",
       "      <td>532725</td>\n",
       "      <td>2005</td>\n",
       "      <td>4304</td>\n",
       "    </tr>\n",
       "    <tr>\n",
       "      <th>5</th>\n",
       "      <td>498846</td>\n",
       "      <td>2006</td>\n",
       "      <td>4002</td>\n",
       "    </tr>\n",
       "    <tr>\n",
       "      <th>6</th>\n",
       "      <td>501908</td>\n",
       "      <td>2007</td>\n",
       "      <td>3967</td>\n",
       "    </tr>\n",
       "    <tr>\n",
       "      <th>7</th>\n",
       "      <td>452595</td>\n",
       "      <td>2008</td>\n",
       "      <td>3401</td>\n",
       "    </tr>\n",
       "    <tr>\n",
       "      <th>8</th>\n",
       "      <td>426228</td>\n",
       "      <td>2009</td>\n",
       "      <td>3076</td>\n",
       "    </tr>\n",
       "    <tr>\n",
       "      <th>9</th>\n",
       "      <td>416490</td>\n",
       "      <td>2010</td>\n",
       "      <td>2739</td>\n",
       "    </tr>\n",
       "    <tr>\n",
       "      <th>10</th>\n",
       "      <td>403629</td>\n",
       "      <td>2011</td>\n",
       "      <td>2835</td>\n",
       "    </tr>\n",
       "    <tr>\n",
       "      <th>11</th>\n",
       "      <td>395901</td>\n",
       "      <td>2012</td>\n",
       "      <td>2995</td>\n",
       "    </tr>\n",
       "    <tr>\n",
       "      <th>12</th>\n",
       "      <td>383840</td>\n",
       "      <td>2013</td>\n",
       "      <td>3104</td>\n",
       "    </tr>\n",
       "    <tr>\n",
       "      <th>13</th>\n",
       "      <td>399565</td>\n",
       "      <td>2014</td>\n",
       "      <td>3126</td>\n",
       "    </tr>\n",
       "    <tr>\n",
       "      <th>14</th>\n",
       "      <td>438169</td>\n",
       "      <td>2015</td>\n",
       "      <td>3437</td>\n",
       "    </tr>\n",
       "    <tr>\n",
       "      <th>15</th>\n",
       "      <td>491619</td>\n",
       "      <td>2016</td>\n",
       "      <td>3860</td>\n",
       "    </tr>\n",
       "    <tr>\n",
       "      <th>16</th>\n",
       "      <td>486432</td>\n",
       "      <td>2017</td>\n",
       "      <td>3904</td>\n",
       "    </tr>\n",
       "    <tr>\n",
       "      <th>17</th>\n",
       "      <td>482296</td>\n",
       "      <td>2018</td>\n",
       "      <td>3805</td>\n",
       "    </tr>\n",
       "    <tr>\n",
       "      <th>18</th>\n",
       "      <td>470352</td>\n",
       "      <td>2019</td>\n",
       "      <td>3736</td>\n",
       "    </tr>\n",
       "    <tr>\n",
       "      <th>19</th>\n",
       "      <td>366417</td>\n",
       "      <td>2020</td>\n",
       "      <td>3703</td>\n",
       "    </tr>\n",
       "    <tr>\n",
       "      <th>20</th>\n",
       "      <td>132770</td>\n",
       "      <td>2021</td>\n",
       "      <td>679</td>\n",
       "    </tr>\n",
       "  </tbody>\n",
       "</table>\n",
       "</div>"
      ],
      "text/plain": [
       "    no_accidents  year  total_fatalities\n",
       "0         522562  2001              3926\n",
       "1         544741  2002              4089\n",
       "2         538954  2003              4225\n",
       "3         538295  2004              4094\n",
       "4         532725  2005              4304\n",
       "5         498846  2006              4002\n",
       "6         501908  2007              3967\n",
       "7         452595  2008              3401\n",
       "8         426228  2009              3076\n",
       "9         416490  2010              2739\n",
       "10        403629  2011              2835\n",
       "11        395901  2012              2995\n",
       "12        383840  2013              3104\n",
       "13        399565  2014              3126\n",
       "14        438169  2015              3437\n",
       "15        491619  2016              3860\n",
       "16        486432  2017              3904\n",
       "17        482296  2018              3805\n",
       "18        470352  2019              3736\n",
       "19        366417  2020              3703\n",
       "20        132770  2021               679"
      ]
     },
     "metadata": {},
     "output_type": "display_data"
    }
   ],
   "source": [
    "# https://www.designcise.com/web/tutorial/how-to-group-by-month-and-year-in-sqlite \n",
    "query = \"SELECT COUNT(case_id) as no_accidents,\\\n",
    "        strftime('%Y', collision_date) as year,\\\n",
    "        SUM(killed_victims) as total_fatalities\\\n",
    "        FROM collisions\\\n",
    "        GROUP BY year\\\n",
    "        ORDER BY year ASC;\"\n",
    "res = queryExecute(query)\n",
    "print(\"Query Result\")\n",
    "df = pd.DataFrame(res.fetchall(), columns = [description[0] for description in res.description])\n",
    "plt.plot(df.year,df.no_accidents)\n",
    "plt.show()\n",
    "plt.plot(df.year,df.total_fatalities)\n",
    "plt.show()\n",
    "display(df)"
   ]
  }
 ],
 "metadata": {
  "kernelspec": {
   "display_name": "Python 3",
   "language": "python",
   "name": "python3"
  },
  "language_info": {
   "codemirror_mode": {
    "name": "ipython",
    "version": 3
   },
   "file_extension": ".py",
   "mimetype": "text/x-python",
   "name": "python",
   "nbconvert_exporter": "python",
   "pygments_lexer": "ipython3",
   "version": "3.8.2"
  }
 },
 "nbformat": 4,
 "nbformat_minor": 5
}
